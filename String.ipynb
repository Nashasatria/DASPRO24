{
 "cells": [
  {
   "cell_type": "code",
   "execution_count": 1,
   "id": "e4c9d35a-7c74-488f-bf16-323ea8f6d641",
   "metadata": {},
   "outputs": [
    {
     "name": "stdout",
     "output_type": "stream",
     "text": [
      "Panjang string 'Halo Nasha!' adalah: 11\n"
     ]
    }
   ],
   "source": [
    "# Menghitung Panjang String\n",
    "# Contoh penggunaan\n",
    "teks = \"Halo Nasha!\"\n",
    "panjang = len(teks)\n",
    "print(f\"Panjang string '{teks}' adalah: {panjang}\")"
   ]
  },
  {
   "cell_type": "code",
   "execution_count": 2,
   "id": "a702c196-a084-432d-8dd5-b6c2c5387ada",
   "metadata": {},
   "outputs": [
    {
     "name": "stdout",
     "output_type": "stream",
     "text": [
      "Hasil penggabungan: HaloNasha\n"
     ]
    }
   ],
   "source": [
    "# Menggabungkan String\n",
    "# Contoh penggunaan\n",
    "teks1 = \"Halo\"\n",
    "teks2 = \"Nasha\"\n",
    "hasil = teks1 + teks2\n",
    "print(\"Hasil penggabungan:\",hasil)"
   ]
  },
  {
   "cell_type": "code",
   "execution_count": 3,
   "id": "1ff42484-98c7-429c-9b14-918db426dffb",
   "metadata": {},
   "outputs": [
    {
     "name": "stdout",
     "output_type": "stream",
     "text": [
      "Substring 'Memajukan' ditemukan pada posisi: 19\n"
     ]
    }
   ],
   "source": [
    "# Mencari Substring\n",
    "# Contoh penggunaan\n",
    "teks = \"Belajar Python Itu Memajukan\"\n",
    "substring = \"Memajukan\"\n",
    "posisi = teks.find(substring)\n",
    "if posisi != -1:\n",
    "  print(f\"Substring '{substring}' ditemukan pada posisi: {posisi}\")\n",
    "else:\n",
    "  print(f\"Substring '{substring}' tidak ditemukan\")"
   ]
  },
  {
   "cell_type": "code",
   "execution_count": 4,
   "id": "7cce1863-3bca-4f5c-9ab6-4a3290e2b14e",
   "metadata": {},
   "outputs": [
    {
     "name": "stdout",
     "output_type": "stream",
     "text": [
      "Hasil penggantian: Saya lebih suka memakai bahasa pemograman python\n"
     ]
    }
   ],
   "source": [
    "# Mengganti Substring\n",
    "# Contoh penggunaan\n",
    "teks = \"Saya lebih suka memakai bahasa pemograman hmtl\"\n",
    "lama = \"hmtl\"\n",
    "baru = \"python\"\n",
    "hasil = teks.replace(lama, baru)\n",
    "print(f\"Hasil penggantian: {hasil}\")"
   ]
  },
  {
   "cell_type": "code",
   "execution_count": 11,
   "id": "0dcd2452-3d61-4b4c-89f2-fa9e1ec8bde8",
   "metadata": {},
   "outputs": [
    {
     "name": "stdout",
     "output_type": "stream",
     "text": [
      "Hasil pemisahan: ['motor', 'mobil', 'pesawat']\n"
     ]
    }
   ],
   "source": [
    "# Memisahkan String\n",
    "# Contoh penggunaan\n",
    "teks = \"motor,mobil,pesawat\"\n",
    "pemisah = \",\"\n",
    "hasil = teks.split(pemisah)\n",
    "print(f\"Hasil pemisahan: {hasil}\")"
   ]
  },
  {
   "cell_type": "code",
   "execution_count": 12,
   "id": "408fbe32-ecdc-4fb2-b10a-5fc90b5ad47b",
   "metadata": {},
   "outputs": [
    {
     "name": "stdout",
     "output_type": "stream",
     "text": [
      "Huruf kapital: HALO NASHA\n",
      "Huruf kecil: halo nasha\n"
     ]
    }
   ],
   "source": [
    "# Mengubah Huruf Kapital/Kecil\n",
    "# Contoh penggunaan\n",
    "teks = \"Halo Nasha\"\n",
    "kapital = teks.upper()\n",
    "kecil = teks.lower()\n",
    "print(f\"Huruf kapital: {kapital}\")\n",
    "print(f\"Huruf kecil: {kecil}\")"
   ]
  }
 ],
 "metadata": {
  "kernelspec": {
   "display_name": "Python 3 (ipykernel)",
   "language": "python",
   "name": "python3"
  },
  "language_info": {
   "codemirror_mode": {
    "name": "ipython",
    "version": 3
   },
   "file_extension": ".py",
   "mimetype": "text/x-python",
   "name": "python",
   "nbconvert_exporter": "python",
   "pygments_lexer": "ipython3",
   "version": "3.12.7"
  }
 },
 "nbformat": 4,
 "nbformat_minor": 5
}
