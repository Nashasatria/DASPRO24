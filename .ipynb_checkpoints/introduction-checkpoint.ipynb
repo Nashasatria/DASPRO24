{
 "cells": [
  {
   "cell_type": "markdown",
   "id": "1dbbc6a8-3a9e-4edf-a5b0-faff4e7bdf2d",
   "metadata": {},
   "source": [
    "<center><img src=\"https://logohistory.net/wp-content/uploads/2023/06/Python-Emblem.png\" width=\"400\"></center>\n",
    "<br><b>Jenis cell di JupyterLab ada 2:</b>\n",
    "<ol>\n",
    "    <li>Mark Down (M)</li>\n",
    "    <li>Code (Y)</li>\n",
    "</ol> <hr>"
   ]
  },
  {
   "cell_type": "markdown",
   "id": "c4bef165-e5ed-49ae-aeef-1abb436346f1",
   "metadata": {},
   "source": [
    "#Cara Menambah Cell jadi 2 :\n",
    "<ul>\n",
    "    <li>Above(A)</li>\n",
    "     <li>Bellow(B)</li>\n",
    "</ul>\n",
    "\n",
    "<table>\n",
    "    <tr>\n",
    "         <th>PERINTAH</th>\n",
    "         <th>KETERANGAN</th>\n",
    "    </tr>\n",
    "    <tr>\n",
    "         <td>CTRL + ENTER</td>\n",
    "         <td>Running dan fokus di cell</td>\n",
    "    </tr>\n",
    "    <tr>\n",
    "        <td>SHIFT + ENTER</td>\n",
    "        <td>Running dan fokus di cell berikutnya </td>\n",
    "    </tr>\n",
    "</table>"
   ]
  },
  {
   "cell_type": "code",
   "execution_count": 15,
   "id": "2562645c-e9d4-4d6e-ad0c-96d4ca57998a",
   "metadata": {},
   "outputs": [
    {
     "name": "stdout",
     "output_type": "stream",
     "text": [
      "Hello Python! !\n",
      "5\n",
      "sekarang hari jum'at\n",
      "deklarasi variable 'A'\n",
      "15\n",
      "10\n"
     ]
    },
    {
     "data": {
      "text/plain": [
       "'10'"
      ]
     },
     "execution_count": 15,
     "metadata": {},
     "output_type": "execute_result"
    }
   ],
   "source": [
    "print(\"Hello Python! !\")\n",
    "data = 5\n",
    "data2 = \"10\"\n",
    "print(data)\n",
    "print(\"sekarang hari jum'at\")\n",
    "print(\"deklarasi variable 'A'\")\n",
    "print(data + int(data2))\n",
    "print(data2)\n",
    "data2"
   ]
  }
 ],
 "metadata": {
  "kernelspec": {
   "display_name": "Python 3 (ipykernel)",
   "language": "python",
   "name": "python3"
  },
  "language_info": {
   "codemirror_mode": {
    "name": "ipython",
    "version": 3
   },
   "file_extension": ".py",
   "mimetype": "text/x-python",
   "name": "python",
   "nbconvert_exporter": "python",
   "pygments_lexer": "ipython3",
   "version": "3.12.7"
  }
 },
 "nbformat": 4,
 "nbformat_minor": 5
}
