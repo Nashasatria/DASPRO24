{
 "cells": [
  {
   "cell_type": "code",
   "execution_count": 24,
   "id": "afc4897f-a027-4c0d-8082-3c0b1cf8920b",
   "metadata": {},
   "outputs": [
    {
     "name": "stdout",
     "output_type": "stream",
     "text": [
      "nama buah : apple\n",
      "nama buah : banana\n",
      "nama buah : watermelon\n",
      "nama buah : pinapple\n"
     ]
    }
   ],
   "source": [
    "fruits = [\"apple\" , \"banana\" , \"watermelon\" , \"pinapple\"]\n",
    "for fruits in fruits:\n",
    "    print(f\"nama buah : {fruits}\")"
   ]
  },
  {
   "cell_type": "code",
   "execution_count": 29,
   "id": "19c54e19-b58f-47db-be0a-0e72edd947f5",
   "metadata": {},
   "outputs": [
    {
     "name": "stdout",
     "output_type": "stream",
     "text": [
      "Nilai rata-rata : 90.0\n"
     ]
    }
   ],
   "source": [
    "nilaiPython = [70,80,90,100,110]\n",
    "total = 0\n",
    "for nilai in nilaiPython:\n",
    "    total += nilai\n",
    "    \n",
    "rata2 = total / len(nilaiPython)\n",
    "print(f\"Nilai rata-rata : {rata2}\")"
   ]
  },
  {
   "cell_type": "code",
   "execution_count": 32,
   "id": "fe3c16eb-2aa3-423b-83d9-458d1b86dc39",
   "metadata": {},
   "outputs": [
    {
     "name": "stdout",
     "output_type": "stream",
     "text": [
      "0 : Jan\n",
      "1 : Feb\n",
      "2 : Maret\n",
      "3 : April\n",
      "4 : Mei\n",
      "5 : Jun\n",
      "6 : Jul\n"
     ]
    }
   ],
   "source": [
    "mounth = [\"Jan\", \"Feb\", \"Maret\", \"April\", \"Mei\", \"Jun\", \"Jul\"]\n",
    "for i,m in enumerate(mounth):\n",
    "    print(f\"{i} : {m}\")"
   ]
  },
  {
   "cell_type": "code",
   "execution_count": 36,
   "id": "9e5d2363-293a-46f6-99f3-dac9c570abd1",
   "metadata": {},
   "outputs": [
    {
     "name": "stdin",
     "output_type": "stream",
     "text": [
      "isikan nama kampus nusaputraku\n"
     ]
    },
    {
     "name": "stdout",
     "output_type": "stream",
     "text": [
      "nusaputraku\n",
      "nusaputraku\n",
      "nusaputraku\n",
      "nusaputraku\n",
      "nusaputraku\n",
      "nusaputraku\n",
      "nusaputraku\n",
      "nusaputraku\n",
      "nusaputraku\n",
      "nusaputraku\n",
      "nusaputraku\n"
     ]
    }
   ],
   "source": [
    "kampus = input(\"isikan nama kampus\")\n",
    "lisVokal = [\"a\", \"b\", \"c\", \"d\", \"e\", \"f\"]\n",
    "for karakter in kampus:\n",
    "    print(kampus)"
   ]
  },
  {
   "cell_type": "code",
   "execution_count": 37,
   "id": "3d90f415-5bf1-4d95-993c-3741dcdd8d95",
   "metadata": {},
   "outputs": [
    {
     "name": "stdin",
     "output_type": "stream",
     "text": [
      "isikan nama kampus m\n"
     ]
    },
    {
     "name": "stdout",
     "output_type": "stream",
     "text": [
      "m adalah Bukan Huruf Vokal|total:0\n"
     ]
    }
   ],
   "source": [
    "kampus = input(\"isikan nama kampus\")\n",
    "lisVokal = [\"a\", \"b\", \"c\", \"d\", \"e\", \"f\"]\n",
    "total = 0\n",
    "listVokal = \"\"\n",
    "for karakter in kampus:\n",
    "    if karakter in listVokal:\n",
    "        total +=1\n",
    "        listVokal = \"Huruf Vokal\"\n",
    "    else :\n",
    "        listVokal = \"Bukan Huruf Vokal\"\n",
    "    print(f\"{karakter} adalah {listVokal}|total:{total}\")\n"
   ]
  },
  {
   "cell_type": "code",
   "execution_count": 38,
   "id": "f7c16f2f-7efa-4c09-8055-6467dd337ff5",
   "metadata": {},
   "outputs": [
    {
     "name": "stdout",
     "output_type": "stream",
     "text": [
      "[1, 4, 9, 16, 25]\n"
     ]
    }
   ],
   "source": [
    "data = [1,2,3,4,5]\n",
    "pangkat =[x**2 for x in data]i adalah:{i}\")\n",
    "print(pangkat)"
   ]
  },
  {
   "cell_type": "code",
   "execution_count": 39,
   "id": "a681297c-8e14-4460-bac6-f41ee08f6c16",
   "metadata": {},
   "outputs": [
    {
     "name": "stdout",
     "output_type": "stream",
     "text": [
      "Nilai i adalah0\n",
      "Nilai i adalah1\n",
      "Nilai i adalah2\n",
      "Nilai i adalah3\n",
      "Nilai i adalah4\n",
      "Nilai i adalah5\n",
      "Nilai i adalah6\n",
      "Nilai i adalah7\n",
      "Nilai i adalah8\n",
      "Nilai i adalah9\n"
     ]
    }
   ],
   "source": [
    "for i in range(10):\n",
    "    print(f\"Nilai i adalah{i}\")"
   ]
  },
  {
   "cell_type": "code",
   "execution_count": 40,
   "id": "2d6cb3f5-d80a-4674-b0b3-7cdcaef0dc46",
   "metadata": {},
   "outputs": [
    {
     "name": "stdout",
     "output_type": "stream",
     "text": [
      "Nilai j adalah5\n",
      "Nilai j adalah6\n",
      "Nilai j adalah7\n",
      "Nilai j adalah8\n",
      "Nilai j adalah9\n"
     ]
    }
   ],
   "source": [
    "for j in range(5,10):\n",
    "    print(f\"Nilai j adalah{j}\")"
   ]
  },
  {
   "cell_type": "code",
   "execution_count": 46,
   "id": "97fefc1e-2004-42bb-a172-93df290db24d",
   "metadata": {},
   "outputs": [
    {
     "name": "stdin",
     "output_type": "stream",
     "text": [
      "isikan bilangan: 7\n"
     ]
    },
    {
     "name": "stdout",
     "output_type": "stream",
     "text": [
      "7 adalah bilangan prima\n"
     ]
    }
   ],
   "source": [
    "number = int(input(\"isikan bilangan:\"))\n",
    "faktor = 0\n",
    "for i in range (1,number+1):\n",
    "        if number % i == 0:\n",
    "            faktor +=1\n",
    "if faktor ==2:\n",
    "    print(f\"{number} adalah bilangan prima\")\n",
    "else:\n",
    "    print(f\"{number} adalah bukan bilangan prima\")"
   ]
  },
  {
   "cell_type": "code",
   "execution_count": 47,
   "id": "909eec6e-47f2-4874-858d-c4020f35dddc",
   "metadata": {},
   "outputs": [
    {
     "name": "stdin",
     "output_type": "stream",
     "text": [
      "isikan bilangan: 32\n"
     ]
    },
    {
     "name": "stdout",
     "output_type": "stream",
     "text": [
      "32 : = 263130836933693530167218012160000000\n"
     ]
    }
   ],
   "source": [
    "number = int(input(\"isikan bilangan:\"))\n",
    "total = 1\n",
    "for i in range (1,number+1):\n",
    "    total  *= i\n",
    "print(f\"{number} : = {total}\")"
   ]
  },
  {
   "cell_type": "code",
   "execution_count": 58,
   "id": "376566db-8bb8-4560-be81-e770fe4a2b53",
   "metadata": {},
   "outputs": [
    {
     "name": "stdin",
     "output_type": "stream",
     "text": [
      "isikan bilangan: 10\n"
     ]
    },
    {
     "name": "stdout",
     "output_type": "stream",
     "text": [
      "1 -2 3 -4 5 -6 7 -8 9 -10 "
     ]
    }
   ],
   "source": [
    "number = int(input(\"isikan bilangan:\"))\n",
    "sign = 1\n",
    "for i in range (1,number+1):\n",
    "    result = sign * i\n",
    "    print(f\"{result} \", end='')\n",
    "    sign *= -1"
   ]
  },
  {
   "cell_type": "code",
   "execution_count": 62,
   "id": "5a511f66-4376-4ff6-9fdf-13bdbc4460da",
   "metadata": {},
   "outputs": [
    {
     "name": "stdout",
     "output_type": "stream",
     "text": [
      "Jumlah Penonton Laki laki:2\n",
      "Jumlah Penonton Perempuan:3\n"
     ]
    }
   ],
   "source": [
    "kursiBioskop = [\"P\", \"P\", \"L\" ,\"L\", \"P\"]\n",
    "totalLaki = 0\n",
    "for jenis in kursiBioskop:\n",
    "    if jenis==\"L\":\n",
    "        totalLaki +=1\n",
    "print(f\"Jumlah Penonton Laki laki:{totalLaki}\")\n",
    "print(f\"Jumlah Penonton Perempuan:{len(kursiBioskop)-totalLaki}\")"
   ]
  },
  {
   "cell_type": "code",
   "execution_count": 65,
   "id": "180160bc-c76a-46dc-be2a-768808c468e1",
   "metadata": {},
   "outputs": [
    {
     "name": "stdout",
     "output_type": "stream",
     "text": [
      "Jumlah Couple:2\n"
     ]
    }
   ],
   "source": [
    "kursi = [\"P\", \"P\", \"L\" ,\"L\", \"P\"]\n",
    "couple = 0\n",
    "for i in range(len(kursi)-1):\n",
    "    if kursi[i] != kursi [i+1]:\n",
    "        couple+=1\n",
    "print(f\"Jumlah Couple:{couple}\")"
   ]
  }
 ],
 "metadata": {
  "kernelspec": {
   "display_name": "Python 3 (ipykernel)",
   "language": "python",
   "name": "python3"
  },
  "language_info": {
   "codemirror_mode": {
    "name": "ipython",
    "version": 3
   },
   "file_extension": ".py",
   "mimetype": "text/x-python",
   "name": "python",
   "nbconvert_exporter": "python",
   "pygments_lexer": "ipython3",
   "version": "3.12.7"
  }
 },
 "nbformat": 4,
 "nbformat_minor": 5
}
