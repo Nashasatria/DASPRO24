{
 "cells": [
  {
   "cell_type": "code",
   "execution_count": null,
   "id": "b97a75bc-4a05-4bbb-96b5-8243cd999c84",
   "metadata": {},
   "outputs": [],
   "source": [
    "usia = int (input(input(\"isikan umur anda:\"))\n",
    "if usia <=12;\n",
    "    print(\"kategori: anak - anak\")\n",
    "elif usia <=17;\n",
    "    print(\"kategori: remaja \")\n",
    "elif usia <=59;\n",
    "    print(\"kategori: dewasa \")\n",
    "else:\n",
    "    print(\"lansia\")\n",
    "    isikan umur anda = 60\n",
    "    lansia"
   ]
  },
  {
   "cell_type": "code",
   "execution_count": 1,
   "id": "51d0dcbf-5e57-4e85-9aaf-0428197c802b",
   "metadata": {},
   "outputs": [
    {
     "name": "stdin",
     "output_type": "stream",
     "text": [
      "Masukan umur tiket 1: 12\n",
      "Masukan umur tiket 2: 54\n",
      "Masukan umur tiket 3: 33\n"
     ]
    },
    {
     "name": "stdout",
     "output_type": "stream",
     "text": [
      "tiket 1 = 10.000\n"
     ]
    }
   ],
   "source": [
    "##### tiket1 = int(input(\"Masukan umur tiket 1:\"))\n",
    "tiket2 = int(input(\"Masukan umur tiket 2:\"))\n",
    "tiket3 = int(input(\"Masukan umur tiket 3:\"))\n",
    "totalBiaya = 0\n",
    "\n",
    "if tiket1 >= 1 :\n",
    "    if tiket1 <= 12:\n",
    "        print(\"tiket 1 = 10.000\")\n",
    "        totalBiaya = totalBiaya + 10000\n",
    "    elif tiket2 <= 17:\n",
    "        print(\"tiket 1 = 15.000\")\n",
    "        totalBiaya = totalBiaya + 15000\n",
    "    elif tiket3 <= 59:\n",
    "        print(\"tiket 1 = 20.000\")\n",
    "        totalBiaya = totalBiaya + 25000\n",
    "    else:\n",
    "        print(\"tiket 2 = Gratis\")\n",
    "        totalBiaya = totalBiaya + 0\n",
    "else:\n",
    "    print(\"Dalam Perencanaan Tuhan\"\n",
    "\n",
    "if tiket2 >= 1:\n",
    "      if tiket2 <= 12:\n",
    "          print(\"tiket 2 = 10.000\")\n",
    "          totalBiaya = totalBiaya + 10000\n",
    "      elif tiket2 <= 17:\n",
    "          print(\"tiket 2 = 15.000\")\n",
    "          totalBiaya = totalBiaya + 15000  \n",
    "      elif tiket2 <= 59:\n",
    "          print(\"tiket 2 = 25.000\")\n",
    "          totalBiaya = totalBiaya + 25000 \n",
    "     else:\n",
    "          print(\"tiket 2 = Gratis\")\n",
    "          totalBiaya = totalBiaya + 0 \n",
    "else:\n",
    "    print(\"Dalam Perencanaan Tuhan\")\n",
    "\n",
    "if tiket3 >= 1:\n",
    "      if tiket3 <= 12:\n",
    "          print(\"tiket 3 = 10.000\")\n",
    "          totalBiaya = totalBiaya + 10000\n",
    "      elif tiket2 <= 17:\n",
    "          print(\"tiket 3 = 15.000\")\n",
    "          totalBiaya = totalBiaya + 15000  \n",
    "      elif tiket2 <= 59:\n",
    "          print(\"tiket 3 = 25.000\")\n",
    "          totalBiaya = totalBiaya + 25000 \n",
    "     else:\n",
    "          print(\"tiket 3 = Gratis\")\n",
    "          totalBiaya = totalBiaya + 0 \n",
    "\n",
    "else:\n",
    "    print(\"Dalama Perencanaan Tuhan\")\n",
    "\n",
    "print(f\"Jadi totalBiaya yang diperlukan untuk masuk adalah: (totalBiaya)\")\n",
    "\n"
   ]
  },
  {
   "cell_type": "code",
   "execution_count": 5,
   "id": "31d44414-1fa3-4826-b713-c2c49a02ced5",
   "metadata": {},
   "outputs": [
    {
     "name": "stdin",
     "output_type": "stream",
     "text": [
      "Masukan motor/mobil:  motor\n",
      "Jam Masuk:  5\n",
      "Jam Keluar:  9\n"
     ]
    },
    {
     "name": "stdout",
     "output_type": "stream",
     "text": [
      "Tarif motor:2000\n",
      "Lama parkir 4 jam\n",
      "Total Tarif Parkir: 8000\n"
     ]
    }
   ],
   "source": [
    "jenisKendaraan = input(\"Masukan motor/mobil: \")\n",
    "jamMasuk = int(input(\"Jam Masuk: \"))\n",
    "jamKeluar = int(input(\"Jam Keluar: \"))\n",
    "\n",
    "tarifPerjam = 0\n",
    "if jenisKendaraan == \"motor\":\n",
    "    tarifPerjam = 2000\n",
    "elif jenisKendaraan == \"mobil\":\n",
    "    tarifPerjam = 5000\n",
    "else:\n",
    "    print(\"tidak menerima selain mobil atau motor\")\n",
    "\n",
    "if jamMasuk >= jamKeluar:\n",
    "    print(\"Input Jam Masuk/Jam Keluar Salah!\")\n",
    "\n",
    "else:\n",
    "    totalTarif = (jamKeluar - jamMasuk)*tarifPerjam\n",
    "\n",
    "print(f\"Tarif {jenisKendaraan}:{tarifPerjam}\")\n",
    "print(f\"Lama parkir {jamKeluar-jamMasuk} jam\")\n",
    "print(f\"Total Tarif Parkir: {totalTarif}\")\n",
    "\n"
   ]
  },
  {
   "cell_type": "code",
   "execution_count": 6,
   "id": "93be435d-6982-4c3d-8e11-37f13d96eb0c",
   "metadata": {},
   "outputs": [
    {
     "name": "stdin",
     "output_type": "stream",
     "text": [
      "Masukan nilai rapor:  75\n",
      "Masukan penghasilan ortu:  3000000\n"
     ]
    },
    {
     "name": "stdout",
     "output_type": "stream",
     "text": [
      "Tidak mendapatkan beasiswa\n"
     ]
    }
   ],
   "source": [
    "nilaiRapor = int(input(\"Masukan nilai rapor: \"))\n",
    "penghasilan = int(input(\"Masukan penghasilan ortu: \"))\n",
    "\n",
    "if nilaiRapor >= 90 and penghasilan < 5_000_000:\n",
    "    print(\"Mendapatkan beasiswa penuh\")\n",
    "elif nilaiRapor >= 85 and penghasilan < 8_000_000:\n",
    "    print(\"Mendapatkan beasiswa 50%\")\n",
    "else:\n",
    "    print(\"Tidak mendapatkan beasiswa\")"
   ]
  },
  {
   "cell_type": "code",
   "execution_count": null,
   "id": "ba5fd2fc-b2c5-4602-96f7-803dd17ba345",
   "metadata": {},
   "outputs": [],
   "source": [
    "nilaiCoding = int(input(\"Masukkan nilai coding (0-100): \"))\n",
    "nilaiInterview = input(\"Masukkan nilai interview (A/B/C/dll): \").upper()\n",
    "\n",
    "if nilaiCoding > 80:\n",
    "    hasilCoding = \"LOLOS\"\n",
    "elif 60 <= nilaiCoding <= 80:\n",
    "    hasilCoding = \"DIPERTIMBANGKAN\"\n",
    "else:\n",
    "    hasilCoding = \"GAGAL\"\n",
    "\n",
    "if nilaiInterview == \"A\" or nilaiInterview == \"B\":\n",
    "    hasilInterview = \"LOLOS\"\n",
    "else:\n",
    "    hasilInterview = \"GAGAL\"\n",
    "\n",
    "if (hasilCoding == \"LOLOS\" or hasilCoding == \"DIPERTIMBANGKAN\") and hasilInterview == \"LOLOS\":\n",
    "    print(\"Selamat Kamu Berhasil Menjadi Calon Programmer\")\n",
    "else:\n",
    "    print(\"Maaf Kamu Belum Berhasil Menjadi Calon Programmer\")"
   ]
  },
  {
   "cell_type": "code",
   "execution_count": null,
   "id": "d95eb72c-199c-4df0-88e1-4a3404964530",
   "metadata": {},
   "outputs": [],
   "source": [
    "nomorPunggung = int(input(\"Nomor Punggung: \"))\n",
    "posisi = \"\"\n",
    "if nomorPunggung % 2 == 0:\n",
    "    posisi += \"Target Attacker, \"\n",
    "    if nomorPunggung >= 50 and nomorPunggung <= 100:\n",
    "        posisi += \"Berhak dipilih menjadi Captain, \"\n",
    "else:\n",
    "    posisi += \"Defender, \"\n",
    "    if nomorPunggung > 90:\n",
    "        posisi += \"Playmaker\"\n",
    "    if nomorPunggung % 3 == 0 and nomorPunggung % 5 == 0:\n",
    "        posisi += \"Keeper\"\n",
    "print(f\"Kamu mempunyai pilihan posisi: {posisi}\")"
   ]
  }
 ],
 "metadata": {
  "kernelspec": {
   "display_name": "Python 3 (ipykernel)",
   "language": "python",
   "name": "python3"
  },
  "language_info": {
   "codemirror_mode": {
    "name": "ipython",
    "version": 3
   },
   "file_extension": ".py",
   "mimetype": "text/x-python",
   "name": "python",
   "nbconvert_exporter": "python",
   "pygments_lexer": "ipython3",
   "version": "3.12.7"
  }
 },
 "nbformat": 4,
 "nbformat_minor": 5
}
