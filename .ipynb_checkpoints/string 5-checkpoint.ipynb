{
 "cells": [
  {
   "cell_type": "code",
   "execution_count": 2,
   "id": "a854f698-6c52-443d-9da4-1230d6c53a64",
   "metadata": {},
   "outputs": [
    {
     "name": "stdin",
     "output_type": "stream",
     "text": [
      "Masukkan nama:  nasha\n",
      "Masukkan umur:  21\n",
      "Masukkan alamat:  cianjur\n",
      "Masukkan jurusan:  teknik \n"
     ]
    }
   ],
   "source": [
    "nama = input(\"Masukkan nama: \")\n",
    "umur = input(\"Masukkan umur: \")\n",
    "alamat = input(\"Masukkan alamat: \")\n",
    "jurusan = input(\"Masukkan jurusan: \")\n",
    "\n",
    "biodata = \"\"\"\n",
    "Biodata:\n",
    "Nama    : {}\n",
    "Umur    : {}\n",
    "Alamat  : {}\n",
    "Jurusan : {}\n",
    "\"\"\".format(nama, umur, alamat, jurusan)\n"
   ]
  },
  {
   "cell_type": "code",
   "execution_count": 3,
   "id": "257bb419-ffc8-406b-a14b-4742d32b8136",
   "metadata": {},
   "outputs": [
    {
     "name": "stdout",
     "output_type": "stream",
     "text": [
      "a.putra nusa\n",
      "b.NIVERSITAS NSA PTRA SKABMI\n",
      "c.SUKABUMI PUTRA NUSA UNIVERSITAS\n",
      "d.UNPS\n",
      "e.TAS SAPU BUMI\n"
     ]
    }
   ],
   "source": [
    "text = \"UNIVERSITAS NUSA PUTRA SUKABUMI\"\n",
    "\n",
    "# a. putra nusa\n",
    "outputA = \" \".join(text.split()[2:0:-1]).lower()\n",
    "\n",
    "# b. NIVERSITAS NSA PTRA SKABMI\n",
    "outputB = text[1:].replace('U', '')\n",
    "\n",
    "# c. SUKABUMI PUTRA NUSA UNIVERSITAS\n",
    "outputC = \" \".join(reversed(text.split()))\n",
    "\n",
    "# d. UNPS (singkatan dari setiap kata)\n",
    "outputD = \"\".join([word[0] for word in text.split()])\n",
    "\n",
    "# e. TAS SAPU BUMI\n",
    "outputE = \" \".join([text.split()[0][-3:], text.split()[1][2:4] + text.split()[2][0:2], text.split()[3][-4:]])\n",
    "\n",
    "print(f\"a.{outputA}\")\n",
    "print(f\"b.{outputB}\")\n",
    "print(f\"c.{outputC}\")\n",
    "print(f\"d.{outputD}\")\n",
    "print(f\"e.{outputE}\")"
   ]
  }
 ],
 "metadata": {
  "kernelspec": {
   "display_name": "Python 3 (ipykernel)",
   "language": "python",
   "name": "python3"
  },
  "language_info": {
   "codemirror_mode": {
    "name": "ipython",
    "version": 3
   },
   "file_extension": ".py",
   "mimetype": "text/x-python",
   "name": "python",
   "nbconvert_exporter": "python",
   "pygments_lexer": "ipython3",
   "version": "3.12.7"
  }
 },
 "nbformat": 4,
 "nbformat_minor": 5
}
