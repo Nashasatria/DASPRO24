{
 "cells": [
  {
   "cell_type": "code",
   "execution_count": 2,
   "id": "35c4ba9f-bc2a-4fe6-b2a6-5ad0fdb81c6b",
   "metadata": {},
   "outputs": [
    {
     "name": "stdout",
     "output_type": "stream",
     "text": [
      "Name : Wonosobo\n",
      "Umur : 76\n",
      "Alamat : Jl. Mamboyan\n",
      "Nilai Pemograman: 70.9\n",
      "Status Menikah: True\n"
     ]
    }
   ],
   "source": [
    "name = \"Wonosobo\"\n",
    "age = 76\n",
    "address = \"Jl. Mamboyan\"\n",
    "pythonScore = 70.9\n",
    "isMarried = True\n",
    "\n",
    "print(\"Name :\",name)\n",
    "print(\"Umur :\",age)\n",
    "print(\"Alamat :\",address)\n",
    "print(\"Nilai Pemograman:\",pythonScore)\n",
    "print(\"Status Menikah:\",isMarried)\n"
   ]
  }
 ],
 "metadata": {
  "kernelspec": {
   "display_name": "Python 3 (ipykernel)",
   "language": "python",
   "name": "python3"
  },
  "language_info": {
   "codemirror_mode": {
    "name": "ipython",
    "version": 3
   },
   "file_extension": ".py",
   "mimetype": "text/x-python",
   "name": "python",
   "nbconvert_exporter": "python",
   "pygments_lexer": "ipython3",
   "version": "3.12.7"
  }
 },
 "nbformat": 4,
 "nbformat_minor": 5
}
