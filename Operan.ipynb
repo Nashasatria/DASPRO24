{
 "cells": [
  {
   "cell_type": "markdown",
   "id": "1b46919e-dfc7-4f7f-99c1-736fc854703f",
   "metadata": {},
   "source": [
    "<h1>Operator Aritmatika</h1>"
   ]
  },
  {
   "cell_type": "code",
   "execution_count": null,
   "id": "d197abfd-28c9-4a0a-b5ca-7a7b0576240d",
   "metadata": {},
   "outputs": [],
   "source": [
    "x = int(input(\"isikan nilai X\"))\n",
    "y = int(input(\"isikan nilai y\"))\n",
    "\n",
    "hasilTambah = x + y\n",
    "hasilKurang = x - y\n",
    "hasilKali = x * y\n",
    "hasilBagi = x / y\n",
    "hasilMod = x % y\n",
    "hasilPangkat = x ** y\n",
    "hasilDiv = x // y\n",
    "\n",
    "print(\"hasil penjumlahan\",x,\"+\",y,\"=\",hasilTambah)\n",
    "print(\"hasil pengurangan\",x,\"-\",y,\"=\",hasilKurang)\n",
    "print(\"hasil perkalian\",x,\"*\",y,\"=\",hasilKali)\n",
    "print(\"hasil pembagian\",x,\"/\",y,\"=\",hasilBagi)\n",
    "print(\"hasil modulus\",x,\"%\",y,\"=\",hasilPangkat)\n",
    "print(\"hasil perpangkatan\",x,\"**\",y,\"=\",hasilPangkat)\n",
    "print(\"hasil divisi\",x,\"//\",y,\"=\",hasilTambah)"
   ]
  },
  {
   "cell_type": "markdown",
   "id": "483a9f96-5d92-4113-8724-fbcdbad5f927",
   "metadata": {},
   "source": [
    "<h1>Operator Penugasan</h1>"
   ]
  },
  {
   "cell_type": "code",
   "execution_count": 10,
   "id": "0b34afd8-82bb-4712-a739-adf31084a89a",
   "metadata": {},
   "outputs": [
    {
     "name": "stdin",
     "output_type": "stream",
     "text": [
      "Isikan Nilai Awal: 5\n"
     ]
    },
    {
     "name": "stdout",
     "output_type": "stream",
     "text": [
      "Nilai Awal : 5\n",
      "Setelah Ditambah 3 = 8\n",
      "Kemudian Dikurang 5 = 3\n",
      "Selanjutnya dikali dengan 3 = 9\n",
      "Proses Terakhir dibagi dengan 2 = 4.5\n"
     ]
    }
   ],
   "source": [
    "nilaiAwal = int(input(\"Isikan Nilai Awal:\"))\n",
    "print(\"Nilai Awal :\",nilaiAwal)\n",
    "nilaiAwal+=3\n",
    "print(\"Setelah Ditambah 3 =\",nilaiAwal)\n",
    "nilaiAwal-=5\n",
    "print(\"Kemudian Dikurang 5 =\",nilaiAwal)\n",
    "nilaiAwal*=3\n",
    "print(\"Selanjutnya dikali dengan 3 =\",nilaiAwal)\n",
    "nilaiAwal/=2\n",
    "print(\"Proses Terakhir dibagi dengan 2 =\",nilaiAwal)"
   ]
  },
  {
   "cell_type": "markdown",
   "id": "a7af67fc-6009-4078-befe-57845b8d4cb2",
   "metadata": {},
   "source": [
    "<h1>Operator Perbandingan</h1>"
   ]
  },
  {
   "cell_type": "code",
   "execution_count": 13,
   "id": "5c14ed61-b2aa-4e61-8a24-d9d907b82dac",
   "metadata": {},
   "outputs": [
    {
     "name": "stdin",
     "output_type": "stream",
     "text": [
      "Masukan Nilai fVal : 5\n",
      "Masukan Nilai sVal : 5\n"
     ]
    },
    {
     "name": "stdout",
     "output_type": "stream",
     "text": [
      "5 = 5 True\n",
      "5 != 5 False\n",
      "5 > 5 False\n",
      "5 < 5 False\n",
      "5 >= 5 True\n",
      "5 <= 5 True\n"
     ]
    }
   ],
   "source": [
    "fVal = int(input(\"Masukan Nilai fVal :\"))\n",
    "sVal = int(input(\"Masukan Nilai sVal :\"))\n",
    "\n",
    "print(fVal,\"=\",sVal,fVal==sVal)\n",
    "print(fVal,\"!=\",sVal,fVal!=sVal)\n",
    "print(fVal,\">\",sVal,fVal>sVal)\n",
    "print(fVal,\"<\",sVal,fVal<sVal)\n",
    "print(fVal,\">=\",sVal,fVal>=sVal)\n",
    "print(fVal,\"<=\",sVal,fVal<=sVal)"
   ]
  },
  {
   "cell_type": "markdown",
   "id": "d41b97ac-31ca-4a15-a919-817d13d4b0ca",
   "metadata": {},
   "source": [
    "<h1>Operator Logika</h1>"
   ]
  },
  {
   "cell_type": "code",
   "execution_count": 18,
   "id": "6165007a-8846-4833-a4ad-172c4883fc63",
   "metadata": {},
   "outputs": [
    {
     "name": "stdin",
     "output_type": "stream",
     "text": [
      "Isikan Bilangan 1 : 6\n",
      "Isikan Bilangan 2 : 1\n"
     ]
    },
    {
     "name": "stdout",
     "output_type": "stream",
     "text": [
      "Bilangan 1: 6\n",
      "Bilangan 2: 1\n",
      "Apakah Bil. 1 mod 2 = 0 dan Bil. 2 lebih besar dari 3? False\n",
      "Apakah Bil. 1 mod 2 = 0 atau Bil. 2 lebih besar dari 3? True\n",
      "Apakah Bil. 1 mod 2 = 0 atau Bil. 2 lebih besar dari 3? False\n"
     ]
    }
   ],
   "source": [
    "num_1 = int(input(\"Isikan Bilangan 1 :\"))\n",
    "num_2 = int(input(\"Isikan Bilangan 2 :\"))\n",
    "\n",
    "print(\"Bilangan 1:\",num_1)\n",
    "print(\"Bilangan 2:\",num_2)\n",
    "\n",
    "print(\"Apakah Bil. 1 mod 2 = 0 dan Bil. 2 lebih besar dari 3?\",num_1 % 2==0 and num_2 > 3)\n",
    "print(\"Apakah Bil. 1 mod 2 = 0 atau Bil. 2 lebih besar dari 3?\",num_1 % 2==0 or num_2 > 3)\n",
    "print(\"Apakah Bil. 1 mod 2 = 0 atau Bil. 2 lebih besar dari 3?\",not(num_1 % 2==0 or num_2 > 3))"
   ]
  },
  {
   "cell_type": "markdown",
   "id": "bb33fbde-6ebe-420b-beda-3f45c48e2865",
   "metadata": {},
   "source": [
    "<h1>Operator Identitas</h1>"
   ]
  },
  {
   "cell_type": "code",
   "execution_count": 21,
   "id": "806a3743-82d6-4653-bd3e-5b6e97a86dbc",
   "metadata": {},
   "outputs": [
    {
     "name": "stdout",
     "output_type": "stream",
     "text": [
      "True\n",
      "False\n",
      "True\n",
      "Memory Address dari val1 1965793769008\n",
      "Memory Address dari val2 140723965274840\n",
      "Memory Address dari val3 140723965274840\n"
     ]
    },
    {
     "name": "stderr",
     "output_type": "stream",
     "text": [
      "<>:1: SyntaxWarning: \"is\" with 'str' literal. Did you mean \"==\"?\n",
      "<>:1: SyntaxWarning: \"is\" with 'str' literal. Did you mean \"==\"?\n",
      "C:\\Users\\user\\AppData\\Local\\Temp\\ipykernel_20024\\1222627556.py:1: SyntaxWarning: \"is\" with 'str' literal. Did you mean \"==\"?\n",
      "  print(\"Andi\" is \"Andi\")\n"
     ]
    }
   ],
   "source": [
    "print(\"Andi\" is \"Andi\")\n",
    "val1 = \"10\"\n",
    "val2 = 10\n",
    "val3 = val2\n",
    "print(val1 is val2)\n",
    "print(val1 is not val2)\n",
    "\n",
    "print(\"Memory Address dari val1\",id(val1))\n",
    "print(\"Memory Address dari val2\",id(val2))\n",
    "print(\"Memory Address dari val3\",id(val3))"
   ]
  },
  {
   "cell_type": "markdown",
   "id": "1456d37d-efe4-42cb-90e7-6bafc454f816",
   "metadata": {},
   "source": [
    "<h1>Operator Keanggotaan</h1>"
   ]
  },
  {
   "cell_type": "code",
   "execution_count": 23,
   "id": "0e0be9dc-bbe4-4de4-802b-36711ffc7eba",
   "metadata": {},
   "outputs": [
    {
     "name": "stdout",
     "output_type": "stream",
     "text": [
      "True\n",
      "False\n"
     ]
    }
   ],
   "source": [
    "find = \"Budi\"\n",
    "daftarMahasiswa = [\"Rudi\",\"Deni\",\"Nana\",\"Budi\"]\n",
    "\n",
    "print(find in daftarMahasiswa)\n",
    "print(find not in daftarMahasiswa)"
   ]
  },
  {
   "cell_type": "markdown",
   "id": "95c057ea-47d6-49ee-86ee-908ade4d4303",
   "metadata": {},
   "source": [
    "<h1>Operator Bitwise</h1>"
   ]
  },
  {
   "cell_type": "code",
   "execution_count": 24,
   "id": "a47d4c3c-19b9-40cf-a753-73c1b5eaae0e",
   "metadata": {},
   "outputs": [
    {
     "name": "stdin",
     "output_type": "stream",
     "text": [
      "Isikan Nilai 1 : 64\n",
      "Isikan Nilai 2 : 3\n"
     ]
    },
    {
     "name": "stdout",
     "output_type": "stream",
     "text": [
      "0\n",
      "67\n",
      "67\n",
      "512\n",
      "8\n"
     ]
    }
   ],
   "source": [
    "desimal1 = int(input(\"Isikan Nilai 1 :\"))\n",
    "desimal2 = int(input(\"Isikan Nilai 2 :\"))\n",
    "\n",
    "print(desimal1 & desimal2)\n",
    "print(desimal1 | desimal2)\n",
    "print(desimal1 ^ desimal2)\n",
    "print(desimal1 << desimal2)\n",
    "print(desimal1 >> desimal2)"
   ]
  }
 ],
 "metadata": {
  "kernelspec": {
   "display_name": "Python 3 (ipykernel)",
   "language": "python",
   "name": "python3"
  },
  "language_info": {
   "codemirror_mode": {
    "name": "ipython",
    "version": 3
   },
   "file_extension": ".py",
   "mimetype": "text/x-python",
   "name": "python",
   "nbconvert_exporter": "python",
   "pygments_lexer": "ipython3",
   "version": "3.12.9"
  }
 },
 "nbformat": 4,
 "nbformat_minor": 5
}
