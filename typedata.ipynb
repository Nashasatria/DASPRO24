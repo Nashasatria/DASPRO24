{
 "cells": [
  {
   "cell_type": "code",
   "execution_count": 19,
   "id": "487ea09e-2f61-467d-a82d-655ddad2e6bb",
   "metadata": {},
   "outputs": [
    {
     "name": "stdout",
     "output_type": "stream",
     "text": [
      "Name : Wonosobo\n",
      "Umur : 76\n",
      "Alamat : Jl. Mamboyan\n",
      "Provinsi : 7413412\n",
      "Nilai Pemograman: 70.9\n",
      "Status Menikah: True\n"
     ]
    }
   ],
   "source": [
    "name = \"Wonosobo\"\n",
    "age = 76\n",
    "address = \"Jl. Mamboyan\"\n",
    "province = \"7413412\"\n",
    "pythonScore = 70.9\n",
    "isMarried = True\n",
    "print(\"Name :\",name)\n",
    "print(\"Umur :\",age)\n",
    "print(\"Alamat :\",address)\n",
    "print(\"Provinsi :\",province)\n",
    "print(\"Nilai Pemograman:\",pythonScore)\n",
    "print(\"Status Menikah:\",isMarried)"
   ]
  },
  {
   "cell_type": "code",
   "execution_count": 20,
   "id": "06a57ca3-b8e3-434f-aed1-1f113cd09b07",
   "metadata": {},
   "outputs": [
    {
     "name": "stdout",
     "output_type": "stream",
     "text": [
      "Tipe data (nama) : <class 'str'>\n",
      "Tipe data (age) : <class 'int'>\n",
      "Tipe data (address) : <class 'str'>\n",
      "Tipe data (province) : <class 'str'>\n",
      "Tipe data (pythonScore) : <class 'float'>\n",
      "Tipe data (isMarried) : <class 'bool'>\n"
     ]
    }
   ],
   "source": [
    "print(\"Tipe data (nama) :\",type(name))\n",
    "print(\"Tipe data (age) :\",type(age))\n",
    "print(\"Tipe data (address) :\",type(address))\n",
    "print(\"Tipe data (province) :\",type(province))\n",
    "print(\"Tipe data (pythonScore) :\",type(pythonScore))\n",
    "print(\"Tipe data (isMarried) :\",type(isMarried))"
   ]
  },
  {
   "cell_type": "code",
   "execution_count": 29,
   "id": "97899c40-9b9b-42cc-a1d7-e86b5b8ef998",
   "metadata": {},
   "outputs": [
    {
     "name": "stdout",
     "output_type": "stream",
     "text": [
      "7413414 7413412.0 True\n",
      "76 76.0 True\n",
      "70.9 70 True\n",
      "True 1.0 1\n"
     ]
    }
   ],
   "source": [
    "#Casting atau Konversi Tipe Data\n",
    "\n",
    "strToInt = int(province)\n",
    "strToFloat = float(province)\n",
    "strToBool = bool(province)\n",
    "print(strToInt+2,strToFloat,strToBool)\n",
    "\n",
    "intToStr = str(age)\n",
    "intToFloat = float(age)\n",
    "intToBool = bool(age)\n",
    "print(intToStr,intToFloat,intToBool)\n",
    "\n",
    "floatToStr = str(pythonScore)\n",
    "floatToInt = int(pythonScore)\n",
    "floatToBool = bool(pythonScore)\n",
    "print(floatToStr,floatToInt,floatToBool)\n",
    "\n",
    "boolToStr = str(isMarried)\n",
    "boolToFloat = float(isMarried)\n",
    "boolToInt = int(isMarried)\n",
    "print(boolToStr,boolToFloat,boolToInt)"
   ]
  },
  {
   "cell_type": "code",
   "execution_count": 31,
   "id": "31d45e1b-e851-4f9b-b149-ca7bf56320d7",
   "metadata": {},
   "outputs": [
    {
     "name": "stdout",
     "output_type": "stream",
     "text": [
      "S\n",
      "8\n",
      "i\n"
     ]
    }
   ],
   "source": [
    "#String adalah kumpulan dari beberapa karakter dan immutable\n",
    "\n",
    "city = \"Sukabumi\"\n",
    "panjang = len(city)\n",
    "print(city[0])\n",
    "print(len(city))\n",
    "print(city[panjang-1])"
   ]
  },
  {
   "cell_type": "code",
   "execution_count": 32,
   "id": "cab27f59-b693-435d-ac77-d750fdf80a1a",
   "metadata": {},
   "outputs": [
    {
     "name": "stdout",
     "output_type": "stream",
     "text": [
      "Nilai Desimal : 500\n",
      "Nilai Biner : 15\n",
      "Nilai Octal : 255\n",
      "Nilai Hexa : 255\n",
      "0b111110100\n",
      "0o764\n",
      "0x1f4\n"
     ]
    }
   ],
   "source": [
    "desimal = 500\n",
    "biner = 0b1111\n",
    "octal = 0o377\n",
    "hexa = 0xff\n",
    "\n",
    "print(\"Nilai Desimal :\",desimal)\n",
    "print(\"Nilai Biner :\",biner)\n",
    "print(\"Nilai Octal :\",octal)\n",
    "print(\"Nilai Hexa :\",hexa)\n",
    "print(bin(desimal))\n",
    "print(oct(desimal))\n",
    "print(hex(desimal))"
   ]
  },
  {
   "cell_type": "code",
   "execution_count": 45,
   "id": "918f3ccc-222b-4380-b314-dc362b38e30f",
   "metadata": {},
   "outputs": [
    {
     "name": "stdout",
     "output_type": "stream",
     "text": [
      "['Sukabumi', 'Malang', 'Bandung']\n",
      "Sukabumi\n",
      "Bandung\n",
      "['Sukabumi', 'Jakarta', 'Bandung']\n",
      "('Basket', 'Renang', 'Futsal')\n",
      "Basket\n",
      "{'Nama': 'Jawa', 'Umur': 23, 'Alamat': {'Jalan': 'Jl.Cikanjut', 'Nomor': 32, 'Provinsi': 'Jawa Budug'}}\n",
      "Jawa\n",
      "Jawa Budug\n",
      "{'Nama': 'Jawa', 'Umur': 23, 'Alamat': {'Jalan': 'Jl.Cikanjut', 'Nomor': 32, 'Provinsi': 'Jawa Budug'}}\n",
      "Jawa\n",
      "Jawa Budug\n"
     ]
    }
   ],
   "source": [
    "#Tipe data Collection\n",
    "cities = [ \"Sukabumi\",\"Malang\",\"Bandung\"]\n",
    "print(cities)\n",
    "print(cities[0])\n",
    "print(cities[len(cities)-1])\n",
    "cities[1] = \"Jakarta\"\n",
    "print(cities)\n",
    "\n",
    "hobbies = (\"Basket\",\"Renang\",\"Futsal\")\n",
    "print(hobbies)\n",
    "print(hobbies[0])\n",
    "#hobbies[0] = \"Watching Neflix\" Program error\n",
    "\n",
    "StudentData= {\n",
    "    \"Nama\" : \"Jawa\",\n",
    "    \"Umur\" : 23,\n",
    "    \"Alamat\" : {\n",
    "        \"Jalan\" : \"Jl.Cikaraurtam\",\n",
    "        \"Nomor\" : 32,\n",
    "        \"Provinsi\" : \"Jawa Budug\"\n",
    "    }\n",
    "}\n",
    "print(StudentData)\n",
    "print(StudentData[\"Nama\"])\n",
    "print(StudentData[\"Alamat\"][\"Provinsi\"])\n",
    "\n",
    "StudentList= [\n",
    "    {\n",
    "        \"Nama\" : \"Hamster\",\n",
    "        \"Umur\" : 23,\n",
    "        \"Alamat\" : {\n",
    "            \"Jalan\" : \"Jl.Cikopek\",\n",
    "            \"Nomor\" : 21,\n",
    "            \"Provinsi\" : \"Jawa Badak\"\n",
    "        }\n",
    "    },\n",
    "    {\n",
    "        \"Nama\" : \"Himau\",\n",
    "        \"Umur\" : 24,\n",
    "        \"Alamat\" : {\n",
    "            \"Jalan\" : \"Jl.Cipoho\",\n",
    "            \"Nomor\" : 28,\n",
    "            \"Provinsi\" : \"Jawa Badak\"\n",
    "        }\n",
    "    }]\n",
    "print(StudentData)\n",
    "print(StudentData[\"Nama\"])\n",
    "print(StudentData[\"Alamat\"][\"Provinsi\"])\n"
   ]
  },
  {
   "cell_type": "code",
   "execution_count": null,
   "id": "3d810e87-1dc4-482d-993b-2c19b8f31448",
   "metadata": {},
   "outputs": [],
   "source": []
  }
 ],
 "metadata": {
  "kernelspec": {
   "display_name": "Python 3 (ipykernel)",
   "language": "python",
   "name": "python3"
  },
  "language_info": {
   "codemirror_mode": {
    "name": "ipython",
    "version": 3
   },
   "file_extension": ".py",
   "mimetype": "text/x-python",
   "name": "python",
   "nbconvert_exporter": "python",
   "pygments_lexer": "ipython3",
   "version": "3.12.7"
  }
 },
 "nbformat": 4,
 "nbformat_minor": 5
}
